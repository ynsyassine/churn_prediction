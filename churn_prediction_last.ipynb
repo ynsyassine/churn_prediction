{
 "cells": [
  {
   "cell_type": "code",
   "execution_count": 37,
   "id": "c736a739",
   "metadata": {},
   "outputs": [],
   "source": [
    "#import dependencies :  \n",
    "import pickle\n",
    "import pandas as pd \n",
    "import numpy as np\n",
    "\n",
    "from sklearn.model_selection import train_test_split \n",
    "from sklearn.model_selection import KFold \n",
    "\n",
    "from sklearn.feature_extraction import DictVectorizer\n",
    "from sklearn.linear_model import LogisticRegression \n",
    "from sklearn.metrics import roc_auc_score \n"
   ]
  },
  {
   "cell_type": "code",
   "execution_count": 29,
   "id": "5f665b84",
   "metadata": {},
   "outputs": [],
   "source": [
    "\n",
    "# parameters\n",
    "\n",
    "C = 1.0\n",
    "n_splits = 5\n",
    "output_file = f'model_C={C}.bin'"
   ]
  },
  {
   "cell_type": "code",
   "execution_count": 11,
   "id": "8d5af953",
   "metadata": {},
   "outputs": [],
   "source": [
    "#import the data : \n",
    "\n",
    "path_data  = \"data.csv\"\n",
    "\n",
    "df = pd.read_csv(path_data)\n",
    "\n",
    "#change the names of all the columns : to lower case and replace spaces with _ \n",
    "df.columns  = df.columns.str.lower().str.replace(\" \" , \"_\")\n",
    "categorical_columns  = list(df.select_dtypes(include = [\"object\"]).columns)\n",
    "for c in categorical_columns : \n",
    "    df[c] = df[c].str.lower().str.replace(\" \", \"_\")\n",
    "    \n",
    "#end of the loop \n",
    "#make the changes to the  totalcharges \n",
    "df.totalcharges   =  pd.to_numeric(df.totalcharges , errors = \"coerce\")\n",
    "df.totalcharges = df.totalcharges.fillna(0)\n",
    "\n",
    "df.churn  = (df.churn == \"yes\").astype(int)"
   ]
  },
  {
   "cell_type": "code",
   "execution_count": 12,
   "id": "7c68e138",
   "metadata": {},
   "outputs": [],
   "source": [
    "# spliting the data into train data and test data : \n",
    "df_full_train ,  df_test  = train_test_split(df ,  test_size = 0.2 , random_state=1)"
   ]
  },
  {
   "cell_type": "code",
   "execution_count": 12,
   "id": "f21624b7",
   "metadata": {},
   "outputs": [],
   "source": [
    "######### numerical  features ######################\n",
    "numerical = ['tenure', 'monthlycharges', 'totalcharges']\n",
    "############  categorical features #################### \n",
    "categorical = [\n",
    "    'gender',\n",
    "    'seniorcitizen',\n",
    "    'partner',\n",
    "    'dependents',\n",
    "    'phoneservice',\n",
    "    'multiplelines',\n",
    "    'internetservice',\n",
    "    'onlinesecurity',\n",
    "    'onlinebackup',\n",
    "    'deviceprotection',\n",
    "    'techsupport',\n",
    "    'streamingtv',\n",
    "    'streamingmovies',\n",
    "    'contract',\n",
    "    'paperlessbilling',\n",
    "    'paymentmethod',\n",
    "]"
   ]
  },
  {
   "cell_type": "code",
   "execution_count": 18,
   "id": "e79d1642",
   "metadata": {},
   "outputs": [
    {
     "name": "stdout",
     "output_type": "stream",
     "text": [
      "[{'Color': 'Red', 'Taste': 'Sweet'}, {'Color': 'Yellow', 'Taste': 'Sweet'}, {'Color': 'Yellow', 'Taste': 'Sour'}] [[1. 0. 0. 1.]\n",
      " [0. 1. 0. 1.]\n",
      " [0. 1. 1. 0.]]\n"
     ]
    }
   ],
   "source": [
    "from sklearn.feature_extraction import DictVectorizer\n",
    "\n",
    "data = [\n",
    "    {'Color': 'Red', 'Taste': 'Sweet'},\n",
    "    {'Color': 'Yellow', 'Taste': 'Sweet'},\n",
    "    {'Color': 'Yellow', 'Taste': 'Sour'}\n",
    "]\n",
    "\n",
    "vectorizer = DictVectorizer(sparse=False)\n",
    "transformed_data = vectorizer.fit_transform(data)\n",
    "\n",
    "print(data , transformed_data)"
   ]
  },
  {
   "cell_type": "code",
   "execution_count": 20,
   "id": "61c7b1ca",
   "metadata": {},
   "outputs": [
    {
     "data": {
      "text/html": [
       "<div>\n",
       "<style scoped>\n",
       "    .dataframe tbody tr th:only-of-type {\n",
       "        vertical-align: middle;\n",
       "    }\n",
       "\n",
       "    .dataframe tbody tr th {\n",
       "        vertical-align: top;\n",
       "    }\n",
       "\n",
       "    .dataframe thead th {\n",
       "        text-align: right;\n",
       "    }\n",
       "</style>\n",
       "<table border=\"1\" class=\"dataframe\">\n",
       "  <thead>\n",
       "    <tr style=\"text-align: right;\">\n",
       "      <th></th>\n",
       "      <th>0</th>\n",
       "      <th>1</th>\n",
       "      <th>2</th>\n",
       "      <th>3</th>\n",
       "      <th>4</th>\n",
       "    </tr>\n",
       "  </thead>\n",
       "  <tbody>\n",
       "    <tr>\n",
       "      <th>customerid</th>\n",
       "      <td>7590-vhveg</td>\n",
       "      <td>5575-gnvde</td>\n",
       "      <td>3668-qpybk</td>\n",
       "      <td>7795-cfocw</td>\n",
       "      <td>9237-hqitu</td>\n",
       "    </tr>\n",
       "    <tr>\n",
       "      <th>gender</th>\n",
       "      <td>female</td>\n",
       "      <td>male</td>\n",
       "      <td>male</td>\n",
       "      <td>male</td>\n",
       "      <td>female</td>\n",
       "    </tr>\n",
       "    <tr>\n",
       "      <th>seniorcitizen</th>\n",
       "      <td>0</td>\n",
       "      <td>0</td>\n",
       "      <td>0</td>\n",
       "      <td>0</td>\n",
       "      <td>0</td>\n",
       "    </tr>\n",
       "    <tr>\n",
       "      <th>partner</th>\n",
       "      <td>yes</td>\n",
       "      <td>no</td>\n",
       "      <td>no</td>\n",
       "      <td>no</td>\n",
       "      <td>no</td>\n",
       "    </tr>\n",
       "    <tr>\n",
       "      <th>dependents</th>\n",
       "      <td>no</td>\n",
       "      <td>no</td>\n",
       "      <td>no</td>\n",
       "      <td>no</td>\n",
       "      <td>no</td>\n",
       "    </tr>\n",
       "    <tr>\n",
       "      <th>tenure</th>\n",
       "      <td>1</td>\n",
       "      <td>34</td>\n",
       "      <td>2</td>\n",
       "      <td>45</td>\n",
       "      <td>2</td>\n",
       "    </tr>\n",
       "    <tr>\n",
       "      <th>phoneservice</th>\n",
       "      <td>no</td>\n",
       "      <td>yes</td>\n",
       "      <td>yes</td>\n",
       "      <td>no</td>\n",
       "      <td>yes</td>\n",
       "    </tr>\n",
       "    <tr>\n",
       "      <th>multiplelines</th>\n",
       "      <td>no_phone_service</td>\n",
       "      <td>no</td>\n",
       "      <td>no</td>\n",
       "      <td>no_phone_service</td>\n",
       "      <td>no</td>\n",
       "    </tr>\n",
       "    <tr>\n",
       "      <th>internetservice</th>\n",
       "      <td>dsl</td>\n",
       "      <td>dsl</td>\n",
       "      <td>dsl</td>\n",
       "      <td>dsl</td>\n",
       "      <td>fiber_optic</td>\n",
       "    </tr>\n",
       "    <tr>\n",
       "      <th>onlinesecurity</th>\n",
       "      <td>no</td>\n",
       "      <td>yes</td>\n",
       "      <td>yes</td>\n",
       "      <td>yes</td>\n",
       "      <td>no</td>\n",
       "    </tr>\n",
       "    <tr>\n",
       "      <th>onlinebackup</th>\n",
       "      <td>yes</td>\n",
       "      <td>no</td>\n",
       "      <td>yes</td>\n",
       "      <td>no</td>\n",
       "      <td>no</td>\n",
       "    </tr>\n",
       "    <tr>\n",
       "      <th>deviceprotection</th>\n",
       "      <td>no</td>\n",
       "      <td>yes</td>\n",
       "      <td>no</td>\n",
       "      <td>yes</td>\n",
       "      <td>no</td>\n",
       "    </tr>\n",
       "    <tr>\n",
       "      <th>techsupport</th>\n",
       "      <td>no</td>\n",
       "      <td>no</td>\n",
       "      <td>no</td>\n",
       "      <td>yes</td>\n",
       "      <td>no</td>\n",
       "    </tr>\n",
       "    <tr>\n",
       "      <th>streamingtv</th>\n",
       "      <td>no</td>\n",
       "      <td>no</td>\n",
       "      <td>no</td>\n",
       "      <td>no</td>\n",
       "      <td>no</td>\n",
       "    </tr>\n",
       "    <tr>\n",
       "      <th>streamingmovies</th>\n",
       "      <td>no</td>\n",
       "      <td>no</td>\n",
       "      <td>no</td>\n",
       "      <td>no</td>\n",
       "      <td>no</td>\n",
       "    </tr>\n",
       "    <tr>\n",
       "      <th>contract</th>\n",
       "      <td>month-to-month</td>\n",
       "      <td>one_year</td>\n",
       "      <td>month-to-month</td>\n",
       "      <td>one_year</td>\n",
       "      <td>month-to-month</td>\n",
       "    </tr>\n",
       "    <tr>\n",
       "      <th>paperlessbilling</th>\n",
       "      <td>yes</td>\n",
       "      <td>no</td>\n",
       "      <td>yes</td>\n",
       "      <td>no</td>\n",
       "      <td>yes</td>\n",
       "    </tr>\n",
       "    <tr>\n",
       "      <th>paymentmethod</th>\n",
       "      <td>electronic_check</td>\n",
       "      <td>mailed_check</td>\n",
       "      <td>mailed_check</td>\n",
       "      <td>bank_transfer_(automatic)</td>\n",
       "      <td>electronic_check</td>\n",
       "    </tr>\n",
       "    <tr>\n",
       "      <th>monthlycharges</th>\n",
       "      <td>29.85</td>\n",
       "      <td>56.95</td>\n",
       "      <td>53.85</td>\n",
       "      <td>42.3</td>\n",
       "      <td>70.7</td>\n",
       "    </tr>\n",
       "    <tr>\n",
       "      <th>totalcharges</th>\n",
       "      <td>29.85</td>\n",
       "      <td>1889.5</td>\n",
       "      <td>108.15</td>\n",
       "      <td>1840.75</td>\n",
       "      <td>151.65</td>\n",
       "    </tr>\n",
       "    <tr>\n",
       "      <th>churn</th>\n",
       "      <td>0</td>\n",
       "      <td>0</td>\n",
       "      <td>1</td>\n",
       "      <td>0</td>\n",
       "      <td>1</td>\n",
       "    </tr>\n",
       "  </tbody>\n",
       "</table>\n",
       "</div>"
      ],
      "text/plain": [
       "                                 0             1               2  \\\n",
       "customerid              7590-vhveg    5575-gnvde      3668-qpybk   \n",
       "gender                      female          male            male   \n",
       "seniorcitizen                    0             0               0   \n",
       "partner                        yes            no              no   \n",
       "dependents                      no            no              no   \n",
       "tenure                           1            34               2   \n",
       "phoneservice                    no           yes             yes   \n",
       "multiplelines     no_phone_service            no              no   \n",
       "internetservice                dsl           dsl             dsl   \n",
       "onlinesecurity                  no           yes             yes   \n",
       "onlinebackup                   yes            no             yes   \n",
       "deviceprotection                no           yes              no   \n",
       "techsupport                     no            no              no   \n",
       "streamingtv                     no            no              no   \n",
       "streamingmovies                 no            no              no   \n",
       "contract            month-to-month      one_year  month-to-month   \n",
       "paperlessbilling               yes            no             yes   \n",
       "paymentmethod     electronic_check  mailed_check    mailed_check   \n",
       "monthlycharges               29.85         56.95           53.85   \n",
       "totalcharges                 29.85        1889.5          108.15   \n",
       "churn                            0             0               1   \n",
       "\n",
       "                                          3                 4  \n",
       "customerid                       7795-cfocw        9237-hqitu  \n",
       "gender                                 male            female  \n",
       "seniorcitizen                             0                 0  \n",
       "partner                                  no                no  \n",
       "dependents                               no                no  \n",
       "tenure                                   45                 2  \n",
       "phoneservice                             no               yes  \n",
       "multiplelines              no_phone_service                no  \n",
       "internetservice                         dsl       fiber_optic  \n",
       "onlinesecurity                          yes                no  \n",
       "onlinebackup                             no                no  \n",
       "deviceprotection                        yes                no  \n",
       "techsupport                             yes                no  \n",
       "streamingtv                              no                no  \n",
       "streamingmovies                          no                no  \n",
       "contract                           one_year    month-to-month  \n",
       "paperlessbilling                         no               yes  \n",
       "paymentmethod     bank_transfer_(automatic)  electronic_check  \n",
       "monthlycharges                         42.3              70.7  \n",
       "totalcharges                        1840.75            151.65  \n",
       "churn                                     0                 1  "
      ]
     },
     "execution_count": 20,
     "metadata": {},
     "output_type": "execute_result"
    }
   ],
   "source": [
    "df.head().T"
   ]
  },
  {
   "cell_type": "code",
   "execution_count": 10,
   "id": "1449e80d",
   "metadata": {},
   "outputs": [],
   "source": [
    "# define a functin for the training : \n",
    "def train(df_train , y_train , C=1.0 ):\n",
    "    #create the data that we need to train the model with before usign the dictvectorizer: \n",
    "    dicts  = df_train[categorical + numerical ].to_dict(orient = \"records\")\n",
    "    #instanciate the  DictVictorizer  \n",
    "    dv = DictVectorizer(sparse = False)\n",
    "    X_train =  dv.fit_transform(dicts)\n",
    "    # instanciate the logistic regression model : \n",
    "    model  = LogisticRegression(C= C , max_iter=1000)\n",
    "    model.fit(X_train, y_train)\n",
    "    return dv , model "
   ]
  },
  {
   "cell_type": "code",
   "execution_count": 9,
   "id": "a3b4f711",
   "metadata": {},
   "outputs": [],
   "source": [
    "## now i need to create predict function \n",
    "def predict(df , dv , model):\n",
    "    #prperocess the data before give it to the dictVectorizer \n",
    "    x  =  df[categorical + numerical].to_dict(orient = \"records\")\n",
    "    #transformt the x_train data : \n",
    "    x_test  = dv.transform(x)\n",
    "    y_predct  = model.predict_proba(x_test)[:, 1]\n",
    "    return y_predct"
   ]
  },
  {
   "cell_type": "code",
   "execution_count": 34,
   "id": "08ca07ce",
   "metadata": {},
   "outputs": [],
   "source": [
    "#validation "
   ]
  },
  {
   "cell_type": "code",
   "execution_count": 35,
   "id": "07886c5b",
   "metadata": {},
   "outputs": [
    {
     "name": "stdout",
     "output_type": "stream",
     "text": [
      "doing the validation know with the C=1.0\n"
     ]
    }
   ],
   "source": [
    "print(f\"doing the validation know with the C={C}\")"
   ]
  },
  {
   "cell_type": "code",
   "execution_count": 38,
   "id": "3a002c4c",
   "metadata": {},
   "outputs": [
    {
     "name": "stdout",
     "output_type": "stream",
     "text": [
      "auc on fold 0 is 0.8423828998908871\n",
      "auc on fold 1 is 0.8455854357038802\n",
      "auc on fold 2 is 0.8307405177603852\n",
      "auc on fold 3 is 0.8301724275756219\n",
      "auc on fold 4 is 0.8522677355589721\n",
      "validation results:\n",
      "C=1.0 0.840 +- 0.009\n",
      "training the final model\n",
      "auc=0.8572386167896259\n",
      "the model is saved to model_C=1.0.bin\n"
     ]
    }
   ],
   "source": [
    "# instanciate the KFold modul : \n",
    "kfold = KFold(n_splits=n_splits, shuffle=True , random_state=1)\n",
    "scores  = [] \n",
    "fold = 0\n",
    "for train_idx, val_idx in kfold.split(df_full_train):\n",
    "    df_train = df_full_train.iloc[train_idx]\n",
    "    df_val = df_full_train.iloc[val_idx]\n",
    "\n",
    "    y_train = df_train.churn.values\n",
    "    y_val = df_val.churn.values\n",
    "\n",
    "    dv, model = train(df_train, y_train, C=C)\n",
    "    y_pred = predict(df_val, dv, model)\n",
    "\n",
    "    auc = roc_auc_score(y_val, y_pred)\n",
    "    scores.append(auc)\n",
    "\n",
    "    print(f'auc on fold {fold} is {auc}')\n",
    "    fold = fold + 1\n",
    "    \n",
    "\n",
    "print('validation results:')\n",
    "print('C=%s %.3f +- %.3f' % (C, np.mean(scores), np.std(scores)))\n",
    "\n",
    "# training the final model\n",
    "\n",
    "print('training the final model')\n",
    "\n",
    "dv, model = train(df_full_train, df_full_train.churn.values, C=1.0)\n",
    "y_pred = predict(df_test, dv, model)\n",
    "\n",
    "y_test = df_test.churn.values\n",
    "auc = roc_auc_score(y_test, y_pred)\n",
    "\n",
    "print(f'auc={auc}')\n",
    "\n",
    "\n",
    "# Save the model\n",
    "\n",
    "with open(output_file, 'wb') as f_out:\n",
    "    pickle.dump((dv, model), f_out)\n",
    "\n",
    "print(f'the model is saved to {output_file}')\n",
    " "
   ]
  },
  {
   "cell_type": "code",
   "execution_count": 1,
   "id": "0db85c0d",
   "metadata": {},
   "outputs": [],
   "source": [
    "# load the model "
   ]
  },
  {
   "cell_type": "code",
   "execution_count": 2,
   "id": "c15fd282",
   "metadata": {},
   "outputs": [],
   "source": [
    "import pickle "
   ]
  },
  {
   "cell_type": "code",
   "execution_count": 4,
   "id": "5881cfaf",
   "metadata": {},
   "outputs": [
    {
     "data": {
      "text/plain": [
       "(DictVectorizer(sparse=False), LogisticRegression(max_iter=1000))"
      ]
     },
     "execution_count": 4,
     "metadata": {},
     "output_type": "execute_result"
    }
   ],
   "source": [
    "#  we need to load the dict vectorizer and also the \n",
    "#create a variable name path :\n",
    "input_file = \"model_C=1.0.bin\"\n",
    "with open(input_file, \"rb\") as  in_file:\n",
    "    (dv,model) = pickle.load(in_file)\n",
    "    \n",
    "dv, model "
   ]
  },
  {
   "cell_type": "code",
   "execution_count": 22,
   "id": "5df5f367",
   "metadata": {},
   "outputs": [],
   "source": [
    "#create a sample to test if it is working or not : \n",
    "# we have a dict that we need to convert to dataframe : \n",
    "customer = {\n",
    "    'customerid': '8879-zkjof',\n",
    "    'gender': 'female',\n",
    "    'seniorcitizen': 0,\n",
    "    'partner': 'no',\n",
    "    'dependents': 'no',\n",
    "    'tenure': 41,\n",
    "    'phoneservice': 'yes',\n",
    "    'multiplelines': 'no',\n",
    "    'internetservice': 'dsl',\n",
    "    'onlinesecurity': 'yes',\n",
    "    'onlinebackup': 'no',\n",
    "    'deviceprotection': 'yes',\n",
    "    'techsupport': 'yes',\n",
    "    'streamingtv': 'yes',\n",
    "    'streamingmovies': 'yes',\n",
    "    'contract': 'one_year',\n",
    "    'paperlessbilling': 'yes',\n",
    "    'paymentmethod': 'bank_transfer_(automatic)',\n",
    "    'monthlycharges': 79.85,\n",
    "    'totalcharges': 3320.75\n",
    "}"
   ]
  },
  {
   "cell_type": "code",
   "execution_count": 6,
   "id": "97112146",
   "metadata": {},
   "outputs": [],
   "source": [
    "#reinport the pandas : "
   ]
  },
  {
   "cell_type": "code",
   "execution_count": 13,
   "id": "f4fcdae0",
   "metadata": {},
   "outputs": [],
   "source": [
    "import pandas as pd \n",
    "t_test  = pd.DataFrame([customer])\n",
    "y_predict_1 = predict(t_test , dv ,model)"
   ]
  },
  {
   "cell_type": "code",
   "execution_count": 15,
   "id": "933f5da5",
   "metadata": {},
   "outputs": [
    {
     "name": "stdout",
     "output_type": "stream",
     "text": [
      "0.06224295541362429\n"
     ]
    }
   ],
   "source": [
    "print(y_predict_1[0])"
   ]
  },
  {
   "cell_type": "code",
   "execution_count": 17,
   "id": "8fce47a8",
   "metadata": {},
   "outputs": [],
   "source": [
    "def predict_single(customer):\n",
    "    t_test  = pd.DataFrame([customer])\n",
    "    y_predict_1 = predict(t_test , dv ,model)\n",
    "    if y_predict_1 < 0.5 : \n",
    "        print(f\"the result is false with  :{y_predict_1}\")\n",
    "    else:\n",
    "        print(f\"the result is true with: {y_predict_1}\")\n",
    "    "
   ]
  },
  {
   "cell_type": "code",
   "execution_count": 18,
   "id": "ae55ad36",
   "metadata": {},
   "outputs": [
    {
     "name": "stdout",
     "output_type": "stream",
     "text": [
      "the result is false with  :[0.06224296]\n"
     ]
    }
   ],
   "source": [
    "predict_single(customer)"
   ]
  },
  {
   "cell_type": "code",
   "execution_count": 27,
   "id": "fafdd8bc",
   "metadata": {},
   "outputs": [
    {
     "data": {
      "text/plain": [
       "0.9377570445863757"
      ]
     },
     "execution_count": 27,
     "metadata": {},
     "output_type": "execute_result"
    }
   ],
   "source": [
    "\n",
    "X = dv.transform([customer])\n",
    "model.predict_proba(X)[0][0]"
   ]
  },
  {
   "cell_type": "code",
   "execution_count": 28,
   "id": "34ebc000",
   "metadata": {},
   "outputs": [
    {
     "name": "stdout",
     "output_type": "stream",
     "text": [
      "/home/yassine/mlzoomcamp/churn_prediction\r\n"
     ]
    }
   ],
   "source": [
    "!pwd"
   ]
  },
  {
   "cell_type": "code",
   "execution_count": null,
   "id": "b71d6b91",
   "metadata": {},
   "outputs": [],
   "source": []
  }
 ],
 "metadata": {
  "kernelspec": {
   "display_name": "Python 3 (ipykernel)",
   "language": "python",
   "name": "python3"
  },
  "language_info": {
   "codemirror_mode": {
    "name": "ipython",
    "version": 3
   },
   "file_extension": ".py",
   "mimetype": "text/x-python",
   "name": "python",
   "nbconvert_exporter": "python",
   "pygments_lexer": "ipython3",
   "version": "3.9.15"
  }
 },
 "nbformat": 4,
 "nbformat_minor": 5
}
