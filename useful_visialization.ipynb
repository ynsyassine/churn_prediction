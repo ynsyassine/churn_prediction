{
 "cells": [
  {
   "cell_type": "markdown",
   "id": "3f114005",
   "metadata": {},
   "source": [
    "# create a function that display the countplot of the categorical features "
   ]
  },
  {
   "cell_type": "code",
   "execution_count": 2,
   "id": "f94eaccc",
   "metadata": {},
   "outputs": [],
   "source": [
    "def plot_all_c(df , list_name_features , target_variable):\n",
    "    \"\"\"\n",
    "        df :  stand for the data frame \n",
    "        list_name_features :  is an array that contains the names of all the categorical features columns \n",
    "        target_variable : the name the target variable \n",
    "    \"\"\"\n",
    "    for c in list_name_features:\n",
    "        plt.figure(figsize=(10, 5))\n",
    "        sns.countplot(data = df  , x = df[c] , hue = df[target_variable] , palette = \"viridis\" )\n",
    "        plt.title(f\"churn by {c}\")\n",
    "        plt.show\n",
    "        \n",
    "\n"
   ]
  },
  {
   "cell_type": "markdown",
   "id": "ead51e52",
   "metadata": {},
   "source": [
    "#  create a function that plot the boxplo to of all the numerical features "
   ]
  },
  {
   "cell_type": "markdown",
   "id": "fe4c3739",
   "metadata": {},
   "source": [
    "##  BOXPLOT "
   ]
  },
  {
   "cell_type": "code",
   "execution_count": 1,
   "id": "d68437f8",
   "metadata": {},
   "outputs": [],
   "source": [
    "def plot_all_nc_boxplot(df , numerical_features  , target_variable):\n",
    "    \"\"\"\n",
    "        df : stand for the dataframe \n",
    "        numerical_features :  an array that contains all the numerical features \n",
    "        target_variable :  the name of the  target variable \n",
    "    \"\"\"\n",
    "    for feature in numerical_features:\n",
    "        plt.figure(figsize=(8, 6))\n",
    "        sns.boxplot(data=df, y=feature, x='churn', palette='viridis')\n",
    "        plt.title(f\"{feature} by Churn\")\n",
    "        plt.show()\n",
    "        "
   ]
  },
  {
   "cell_type": "markdown",
   "id": "466af29b",
   "metadata": {},
   "source": [
    "## VIOLIN POT "
   ]
  },
  {
   "cell_type": "code",
   "execution_count": 3,
   "id": "7e849ec3",
   "metadata": {},
   "outputs": [],
   "source": [
    "def plot_nc_violin(df , numerical_features ,  target_variable) :\n",
    "        \"\"\"\n",
    "        df : stand for the dataframe \n",
    "        numerical_features :  an array that contains all the numerical features \n",
    "        target_variable :  the name of the  target variable \n",
    "    \"\"\"\n",
    "    for feature in numerical_features:\n",
    "        plt.figure(figsize=(8, 6))\n",
    "        sns.violinplot(data=df, y=feature, x=target_variable, palette='viridis')\n",
    "        plt.title(f\"{feature} by Churn\")\n",
    "        plt.show()\n",
    "        "
   ]
  },
  {
   "cell_type": "markdown",
   "id": "d6d379cc",
   "metadata": {},
   "source": [
    "## heatmap "
   ]
  },
  {
   "cell_type": "code",
   "execution_count": 4,
   "id": "7ebacb45",
   "metadata": {},
   "outputs": [],
   "source": [
    "def plot_heat_map(df ,numerical_features , target_variable ):\n",
    "    \"\"\"\n",
    "        df : stand for the dataframe \n",
    "        numerical_features :  an array that contains all the numerical features \n",
    "        target_variable :  the name of the  target variable \n",
    "    \"\"\"\n",
    "    numerical_features.append(target_variable)\n",
    "    correlation_matrix = df[numerical_features ].corr()\n",
    "    plt.figure(figsize=(10, 8))\n",
    "    sns.heatmap(correlation_matrix, annot=True, cmap='coolwarm', vmin=-1, vmax=1)\n",
    "    plt.title(\"Correlation heatmap\")\n",
    "    plt.show()"
   ]
  },
  {
   "cell_type": "code",
   "execution_count": 5,
   "id": "5feb5136",
   "metadata": {},
   "outputs": [
    {
     "name": "stdout",
     "output_type": "stream",
     "text": [
      "/home/yassine/mlzoomcamp/churn_prediction\r\n"
     ]
    }
   ],
   "source": [
    "!pwd"
   ]
  },
  {
   "cell_type": "code",
   "execution_count": null,
   "id": "4c607b75",
   "metadata": {},
   "outputs": [],
   "source": []
  }
 ],
 "metadata": {
  "kernelspec": {
   "display_name": "Python 3 (ipykernel)",
   "language": "python",
   "name": "python3"
  },
  "language_info": {
   "codemirror_mode": {
    "name": "ipython",
    "version": 3
   },
   "file_extension": ".py",
   "mimetype": "text/x-python",
   "name": "python",
   "nbconvert_exporter": "python",
   "pygments_lexer": "ipython3",
   "version": "3.9.15"
  }
 },
 "nbformat": 4,
 "nbformat_minor": 5
}
